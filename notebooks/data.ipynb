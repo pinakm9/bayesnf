{
 "cells": [
  {
   "cell_type": "code",
   "execution_count": 1,
   "id": "1af6ed85-4b68-4b03-acf2-dc4d02a1f43e",
   "metadata": {},
   "outputs": [
    {
     "name": "stdout",
     "output_type": "stream",
     "text": [
      "Time taken: 23.38 seconds9  0  1  2  3]->39\n"
     ]
    }
   ],
   "source": [
    "import numpy as np\n",
    "import pandas as pd\n",
    "import os, sys\n",
    "sys.path.insert(0, \"../../../Github/DeepRFM/modules\")\n",
    "sys.path.insert(0, \"../modules\")\n",
    "import l96\n",
    "import convert as cv\n",
    "\n",
    "ds = \"L96\"\n",
    "root = f\"../data/{ds}\"\n",
    "# l96.gen_data(train_size=int(2e5), test_num=1)\n",
    "\n",
    "cv.npy2csv(f\"{root}/train.npy\", I=4, dt=0.01)"
   ]
  },
  {
   "cell_type": "code",
   "execution_count": 6,
   "id": "d9e1d5e8-34d7-43ce-bd63-878b634c2803",
   "metadata": {},
   "outputs": [
    {
     "data": {
      "text/plain": [
       "array([36, 37, 38, 39,  0,  1,  2,  3,  4])"
      ]
     },
     "execution_count": 6,
     "metadata": {},
     "output_type": "execute_result"
    }
   ],
   "source": [
    "np.array([-4, -3, -2, -1,  0,  1,  2,  3,  4], dtype='int') % 40"
   ]
  },
  {
   "cell_type": "code",
   "execution_count": 11,
   "id": "6691850f-fb8c-48c2-881d-6f4ebd9631f8",
   "metadata": {},
   "outputs": [
    {
     "name": "stdout",
     "output_type": "stream",
     "text": [
      "[('../data/L96/test_0.csv', 0), ('../data/L96/test_1.csv', 1), ('../data/L96/test_2.csv', 2), ('../data/L96/test_3.csv', 3), ('../data/L96/test_4.csv', 4), ('../data/L96/test_5.csv', 5), ('../data/L96/test_6.csv', 6), ('../data/L96/test_7.csv', 7), ('../data/L96/test_8.csv', 8), ('../data/L96/test_9.csv', 9), ('../data/L96/test_10.csv', 10), ('../data/L96/test_11.csv', 11), ('../data/L96/test_12.csv', 12), ('../data/L96/test_13.csv', 13), ('../data/L96/test_14.csv', 14), ('../data/L96/test_15.csv', 15), ('../data/L96/test_16.csv', 16), ('../data/L96/test_17.csv', 17), ('../data/L96/test_18.csv', 18), ('../data/L96/test_19.csv', 19), ('../data/L96/test_20.csv', 20), ('../data/L96/test_21.csv', 21), ('../data/L96/test_22.csv', 22), ('../data/L96/test_23.csv', 23), ('../data/L96/test_24.csv', 24), ('../data/L96/test_25.csv', 25), ('../data/L96/test_26.csv', 26), ('../data/L96/test_27.csv', 27), ('../data/L96/test_28.csv', 28), ('../data/L96/test_29.csv', 29), ('../data/L96/test_30.csv', 30), ('../data/L96/test_31.csv', 31), ('../data/L96/test_32.csv', 32), ('../data/L96/test_33.csv', 33), ('../data/L96/test_34.csv', 34), ('../data/L96/test_35.csv', 35), ('../data/L96/test_36.csv', 36), ('../data/L96/test_37.csv', 37), ('../data/L96/test_38.csv', 38), ('../data/L96/test_39.csv', 39)]\n"
     ]
    }
   ],
   "source": [
    "import glob \n",
    "\n",
    "\n",
    "print(files)"
   ]
  },
  {
   "cell_type": "code",
   "execution_count": null,
   "id": "8c792370-657d-4738-9a8f-42db1d117396",
   "metadata": {},
   "outputs": [],
   "source": []
  }
 ],
 "metadata": {
  "kernelspec": {
   "display_name": "Python 3 (ipykernel)",
   "language": "python",
   "name": "python3"
  },
  "language_info": {
   "codemirror_mode": {
    "name": "ipython",
    "version": 3
   },
   "file_extension": ".py",
   "mimetype": "text/x-python",
   "name": "python",
   "nbconvert_exporter": "python",
   "pygments_lexer": "ipython3",
   "version": "3.10.14"
  }
 },
 "nbformat": 4,
 "nbformat_minor": 5
}
